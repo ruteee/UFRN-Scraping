{
 "cells": [
  {
   "cell_type": "code",
   "execution_count": 2,
   "metadata": {
    "collapsed": true
   },
   "outputs": [],
   "source": [
    "import pandas as pd\n",
    "import numpy as np\n",
    "import matplotlib.pyplot as plt"
   ]
  },
  {
   "cell_type": "markdown",
   "metadata": {},
   "source": [
    "Com os dados coletados e armazenados na etapa anterior foi criado um DataFrame para centralizar as informações."
   ]
  },
  {
   "cell_type": "code",
   "execution_count": 3,
   "metadata": {},
   "outputs": [
    {
     "data": {
      "text/html": [
       "<div>\n",
       "<style>\n",
       "    .dataframe thead tr:only-child th {\n",
       "        text-align: right;\n",
       "    }\n",
       "\n",
       "    .dataframe thead th {\n",
       "        text-align: left;\n",
       "    }\n",
       "\n",
       "    .dataframe tbody tr th {\n",
       "        vertical-align: top;\n",
       "    }\n",
       "</style>\n",
       "<table border=\"1\" class=\"dataframe\">\n",
       "  <thead>\n",
       "    <tr style=\"text-align: right;\">\n",
       "      <th></th>\n",
       "      <th>Unnamed: 0</th>\n",
       "      <th>Nome do Servidor</th>\n",
       "      <th>Primeiro Nome</th>\n",
       "      <th>Nacionalidade</th>\n",
       "    </tr>\n",
       "  </thead>\n",
       "  <tbody>\n",
       "    <tr>\n",
       "      <th>0</th>\n",
       "      <td>0</td>\n",
       "      <td>ABDO FARRET NETO</td>\n",
       "      <td>ABDO</td>\n",
       "      <td>BR</td>\n",
       "    </tr>\n",
       "    <tr>\n",
       "      <th>1</th>\n",
       "      <td>1</td>\n",
       "      <td>ABMAEL BEZERRA DE OLIVEIRA</td>\n",
       "      <td>ABMAEL</td>\n",
       "      <td>BR</td>\n",
       "    </tr>\n",
       "    <tr>\n",
       "      <th>2</th>\n",
       "      <td>2</td>\n",
       "      <td>ABNER CARLOS COSTA DE MELO</td>\n",
       "      <td>ABNER</td>\n",
       "      <td>BR</td>\n",
       "    </tr>\n",
       "    <tr>\n",
       "      <th>3</th>\n",
       "      <td>3</td>\n",
       "      <td>ABRAHAO SANDERSON NUNES FERNANDES DA SILVA    ...</td>\n",
       "      <td>ABRAHAO</td>\n",
       "      <td>BR</td>\n",
       "    </tr>\n",
       "    <tr>\n",
       "      <th>4</th>\n",
       "      <td>4</td>\n",
       "      <td>ACACIA JESSICA MAIA DE MOURA</td>\n",
       "      <td>ACACIA</td>\n",
       "      <td>BR</td>\n",
       "    </tr>\n",
       "  </tbody>\n",
       "</table>\n",
       "</div>"
      ],
      "text/plain": [
       "   Unnamed: 0                                   Nome do Servidor  \\\n",
       "0           0            ABDO FARRET NETO                          \n",
       "1           1       ABMAEL BEZERRA DE OLIVEIRA                     \n",
       "2           2       ABNER CARLOS COSTA DE MELO                     \n",
       "3           3  ABRAHAO SANDERSON NUNES FERNANDES DA SILVA    ...   \n",
       "4           4      ACACIA JESSICA MAIA DE MOURA                    \n",
       "\n",
       "  Primeiro Nome Nacionalidade  \n",
       "0          ABDO            BR  \n",
       "1        ABMAEL            BR  \n",
       "2         ABNER            BR  \n",
       "3       ABRAHAO            BR  \n",
       "4        ACACIA            BR  "
      ]
     },
     "execution_count": 3,
     "metadata": {},
     "output_type": "execute_result"
    }
   ],
   "source": [
    "nomes_df = pd.read_csv('nomesServidores.csv')\n",
    "primeiro_nome_df = pd.read_csv('primeiroNomeServidores.csv')\n",
    "\n",
    "ufrn_df = nomes_df.copy()\n",
    "ufrn_df['Primeiro Nome'] = primeiro_nome_df['Nome']\n",
    "ufrn_df['Nacionalidade'] = 'BR'\n",
    "ufrn_df.head()"
   ]
  },
  {
   "cell_type": "code",
   "execution_count": 4,
   "metadata": {},
   "outputs": [
    {
     "data": {
      "text/plain": [
       "2263"
      ]
     },
     "execution_count": 4,
     "metadata": {},
     "output_type": "execute_result"
    }
   ],
   "source": [
    "len(ufrn_df.drop_duplicates(subset='Primeiro Nome'))"
   ]
  },
  {
   "cell_type": "markdown",
   "metadata": {},
   "source": [
    "A partir do dataframe foram criados arquivos CSV para utilização da ferramenta Gender API, cada arquivo com no máximo 500 entradas sem repetição. Esses arquivos resultaram em outros arquivos CSV expandidos com os dados provenientes do Gender API.\n",
    "```python\n",
    "ufrn_df.drop_duplicates(subset='Primeiro Nome')[0:500].to_csv('unique_primeiro_nome_1.csv')\n",
    "ufrn_df.drop_duplicates(subset='Primeiro Nome')[500:1000].to_csv('unique_primeiro_nome_2.csv')\n",
    "ufrn_df.drop_duplicates(subset='Primeiro Nome')[1000:1500].to_csv('unique_primeiro_nome_3.csv')\n",
    "ufrn_df.drop_duplicates(subset='Primeiro Nome')[1500:2000].to_csv('unique_primeiro_nome_4.csv')\n",
    "ufrn_df.drop_duplicates(subset='Primeiro Nome')[2000:].to_csv('unique_primeiro_nome_5.csv')\n",
    "```"
   ]
  },
  {
   "cell_type": "code",
   "execution_count": 5,
   "metadata": {},
   "outputs": [
    {
     "name": "stdout",
     "output_type": "stream",
     "text": [
      "500 500 500 500 263\n"
     ]
    }
   ],
   "source": [
    "u_gender_1_df = pd.read_csv('gender_1.csv')\n",
    "u_gender_2_df = pd.read_csv('gender_2.csv')\n",
    "u_gender_3_df = pd.read_csv('gender_3.csv')\n",
    "u_gender_4_df = pd.read_csv('gender_4.csv')\n",
    "u_gender_5_df = pd.read_csv('gender_5.csv')\n",
    "\n",
    "print(len(u_gender_1_df), len(u_gender_2_df), len(u_gender_3_df), len(u_gender_4_df), len(u_gender_5_df))"
   ]
  },
  {
   "cell_type": "code",
   "execution_count": 6,
   "metadata": {},
   "outputs": [
    {
     "data": {
      "text/plain": [
       "2263"
      ]
     },
     "execution_count": 6,
     "metadata": {},
     "output_type": "execute_result"
    }
   ],
   "source": [
    "u_gender_ufrn_df = u_gender_1_df.append([u_gender_2_df, u_gender_3_df, u_gender_4_df, u_gender_5_df])\n",
    "len(u_gender_ufrn_df)"
   ]
  },
  {
   "cell_type": "code",
   "execution_count": 7,
   "metadata": {},
   "outputs": [
    {
     "data": {
      "text/plain": [
       "300"
      ]
     },
     "execution_count": 7,
     "metadata": {},
     "output_type": "execute_result"
    }
   ],
   "source": [
    "u_gender_ufrn_df['ga_gender'].isnull().sum()"
   ]
  },
  {
   "cell_type": "code",
   "execution_count": 8,
   "metadata": {},
   "outputs": [
    {
     "data": {
      "text/html": [
       "<div>\n",
       "<style>\n",
       "    .dataframe thead tr:only-child th {\n",
       "        text-align: right;\n",
       "    }\n",
       "\n",
       "    .dataframe thead th {\n",
       "        text-align: left;\n",
       "    }\n",
       "\n",
       "    .dataframe tbody tr th {\n",
       "        vertical-align: top;\n",
       "    }\n",
       "</style>\n",
       "<table border=\"1\" class=\"dataframe\">\n",
       "  <thead>\n",
       "    <tr style=\"text-align: right;\">\n",
       "      <th></th>\n",
       "      <th>Unnamed: 0</th>\n",
       "      <th>Nome do Servidor</th>\n",
       "      <th>Primeiro Nome</th>\n",
       "      <th>Nacionalidade</th>\n",
       "      <th>ga_firstname</th>\n",
       "      <th>ga_gender</th>\n",
       "      <th>ga_accuracy</th>\n",
       "      <th>ga_samples</th>\n",
       "    </tr>\n",
       "  </thead>\n",
       "  <tbody>\n",
       "    <tr>\n",
       "      <th>0</th>\n",
       "      <td>0</td>\n",
       "      <td>ABDO FARRET NETO</td>\n",
       "      <td>ABDO</td>\n",
       "      <td>BR</td>\n",
       "      <td>abdo</td>\n",
       "      <td>male</td>\n",
       "      <td>100.0</td>\n",
       "      <td>17.0</td>\n",
       "    </tr>\n",
       "    <tr>\n",
       "      <th>1</th>\n",
       "      <td>1</td>\n",
       "      <td>ABMAEL BEZERRA DE OLIVEIRA</td>\n",
       "      <td>ABMAEL</td>\n",
       "      <td>BR</td>\n",
       "      <td>abmael</td>\n",
       "      <td>male</td>\n",
       "      <td>91.0</td>\n",
       "      <td>34.0</td>\n",
       "    </tr>\n",
       "    <tr>\n",
       "      <th>2</th>\n",
       "      <td>2</td>\n",
       "      <td>ABNER CARLOS COSTA DE MELO</td>\n",
       "      <td>ABNER</td>\n",
       "      <td>BR</td>\n",
       "      <td>abner</td>\n",
       "      <td>male</td>\n",
       "      <td>99.0</td>\n",
       "      <td>328.0</td>\n",
       "    </tr>\n",
       "    <tr>\n",
       "      <th>3</th>\n",
       "      <td>3</td>\n",
       "      <td>ABRAHAO SANDERSON NUNES FERNANDES DA SILVA    ...</td>\n",
       "      <td>ABRAHAO</td>\n",
       "      <td>BR</td>\n",
       "      <td>abrahao</td>\n",
       "      <td>male</td>\n",
       "      <td>95.0</td>\n",
       "      <td>21.0</td>\n",
       "    </tr>\n",
       "    <tr>\n",
       "      <th>4</th>\n",
       "      <td>4</td>\n",
       "      <td>ACACIA JESSICA MAIA DE MOURA</td>\n",
       "      <td>ACACIA</td>\n",
       "      <td>BR</td>\n",
       "      <td>acacia</td>\n",
       "      <td>female</td>\n",
       "      <td>100.0</td>\n",
       "      <td>30.0</td>\n",
       "    </tr>\n",
       "  </tbody>\n",
       "</table>\n",
       "</div>"
      ],
      "text/plain": [
       "   Unnamed: 0                                   Nome do Servidor  \\\n",
       "0           0            ABDO FARRET NETO                          \n",
       "1           1       ABMAEL BEZERRA DE OLIVEIRA                     \n",
       "2           2       ABNER CARLOS COSTA DE MELO                     \n",
       "3           3  ABRAHAO SANDERSON NUNES FERNANDES DA SILVA    ...   \n",
       "4           4      ACACIA JESSICA MAIA DE MOURA                    \n",
       "\n",
       "  Primeiro Nome Nacionalidade ga_firstname ga_gender  ga_accuracy  ga_samples  \n",
       "0          ABDO            BR         abdo      male        100.0        17.0  \n",
       "1        ABMAEL            BR       abmael      male         91.0        34.0  \n",
       "2         ABNER            BR        abner      male         99.0       328.0  \n",
       "3       ABRAHAO            BR      abrahao      male         95.0        21.0  \n",
       "4        ACACIA            BR       acacia    female        100.0        30.0  "
      ]
     },
     "execution_count": 8,
     "metadata": {},
     "output_type": "execute_result"
    }
   ],
   "source": [
    "u_gender_ufrn_df.head()"
   ]
  },
  {
   "cell_type": "code",
   "execution_count": 9,
   "metadata": {},
   "outputs": [
    {
     "data": {
      "text/plain": [
       "6183"
      ]
     },
     "execution_count": 9,
     "metadata": {},
     "output_type": "execute_result"
    }
   ],
   "source": [
    "gender_ufrn_df = ufrn_df.merge(u_gender_ufrn_df[['Primeiro Nome', 'ga_gender', 'ga_accuracy', 'ga_samples']], left_on='Primeiro Nome', right_on='Primeiro Nome')\n",
    "gender_ufrn_df.to_csv('gender_ufrn.csv')\n",
    "\n",
    "len(gender_ufrn_df)"
   ]
  },
  {
   "cell_type": "markdown",
   "metadata": {},
   "source": [
    "Abaixo é criado e plotado o gráfico de porcentagem de homens e mulheres servidores na ufrn. "
   ]
  },
  {
   "cell_type": "code",
   "execution_count": 11,
   "metadata": {},
   "outputs": [
    {
     "data": {
      "image/png": "[encoded data removed]",
      "text/plain": [
       "<matplotlib.figure.Figure at 0x7f8eceab2278>"
      ]
     },
     "metadata": {},
     "output_type": "display_data"
    }
   ],
   "source": [
    "not_null_gender_ufrn_df = gender_ufrn_df.dropna()\n",
    "not_null_gender_ufrn_df = not_null_gender_ufrn_df[not_null_gender_ufrn_df['ga_gender'] != 'unknown']\n",
    "not_null_gender_ufrn_df['Nome do Servidor'].groupby(not_null_gender_ufrn_df['ga_gender']).count().plot(kind='pie', autopct='%1.1f%%',figsize=(6,6))\n",
    "plt.axis('equal')\n",
    "plt.show()"
   ]
  },
  {
   "cell_type": "code",
   "execution_count": null,
   "metadata": {
    "collapsed": true
   },
   "outputs": [],
   "source": []
  }
 ],
 "metadata": {
  "kernelspec": {
   "display_name": "Python 3",
   "language": "python",
   "name": "python3"
  },
  "language_info": {
   "codemirror_mode": {
    "name": "ipython",
    "version": 3
   },
   "file_extension": ".py",
   "mimetype": "text/x-python",
   "name": "python",
   "nbconvert_exporter": "python",
   "pygments_lexer": "ipython3",
   "version": "3.6.1"
  }
 },
 "nbformat": 4,
 "nbformat_minor": 2
}
