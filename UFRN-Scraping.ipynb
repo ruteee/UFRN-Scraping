{
 "cells": [
  {
   "cell_type": "code",
   "execution_count": 1,
   "metadata": {},
   "outputs": [],
   "source": [
    "import pandas as pd\n",
    "import numpy as np\n",
    "from requests import get\n",
    "from bs4 import BeautifulSoup\n",
    "from time import sleep, time\n",
    "from random import randint\n",
    "from warnings import warn\n",
    "from IPython.core.display import clear_output"
   ]
  },
  {
   "cell_type": "code",
   "execution_count": 2,
   "metadata": {},
   "outputs": [],
   "source": [
    "def extrairPrimeiroNome(nomes = [], *args):\n",
    "    primeiroNome = []\n",
    "    for nome in nomes:\n",
    "        primeiroNome.append(nome.partition(' ')[0])\n",
    "    return primeiroNome\n"
   ]
  },
  {
   "cell_type": "code",
   "execution_count": 3,
   "metadata": {},
   "outputs": [
    {
     "name": "stdout",
     "output_type": "stream",
     "text": [
      "Request:413; Frequency: 0.2166237572882272 requests/s\n"
     ]
    }
   ],
   "source": [
    "paginas = [str(i) for i in range(1,414)]\n",
    "\n",
    "requests = 0\n",
    "start_time = time()\n",
    "elapsed_time = 0\n",
    "nomes = []\n",
    "\n",
    "for pagina in paginas:\n",
    "    url_UFRN = 'http://www.portaldatransparencia.gov.br/servidores/'\\\n",
    "        'OrgaoExercicio-ListaServidores.asp?CodOrg=26243&Pagina={}'.format(pagina)\n",
    "    response = get(url_UFRN)\n",
    "    \n",
    "    sleep(randint(1,6))\n",
    "    \n",
    "    requests += 1\n",
    "    elapsed_time = time() - start_time\n",
    "    print('Request:{}; Frequency: {} requests/s'.format(requests, requests/elapsed_time))\n",
    "    clear_output(wait = True)\n",
    "    \n",
    "    if response.status_code != 200:\n",
    "        warn('Request: {}; Status code: {}'.format(requests, response.status_code))\n",
    "              \n",
    "    if requests > 413:\n",
    "        warn('Numero de requests maior que o espperado')  \n",
    "        break\n",
    "        \n",
    "    pagina_soup = BeautifulSoup(response.text, 'html.parser')\n",
    "    nomes_servidores = pagina_soup.select(\"div #listagem table tr td a\")\n",
    "    for nome_serv in nomes_servidores:\n",
    "        nomes.append(nome_serv.text)\n"
   ]
  },
  {
   "cell_type": "code",
   "execution_count": 12,
   "metadata": {},
   "outputs": [],
   "source": [
    "dfNomes = pd.DataFrame()\n",
    "dfNomes['Nome do Servidor'] = nomes\n",
    "dfNomes.to_csv('nomesSeridores.csv')"
   ]
  },
  {
   "cell_type": "code",
   "execution_count": 16,
   "metadata": {
    "collapsed": true
   },
   "outputs": [],
   "source": [
    "dfPrimeiroNome = pd.DataFrame()\n",
    "dfPrimeiroNome['Nome'] = extrairPrimeiroNome(nomes)\n",
    "dfPrimeiroNome.to_csv('primeiroNomeServidores.csv')"
   ]
  }
 ],
 "metadata": {
  "kernelspec": {
   "display_name": "Python 3",
   "language": "python",
   "name": "python3"
  },
  "language_info": {
   "codemirror_mode": {
    "name": "ipython",
    "version": 3
   },
   "file_extension": ".py",
   "mimetype": "text/x-python",
   "name": "python",
   "nbconvert_exporter": "python",
   "pygments_lexer": "ipython3",
   "version": "3.6.2"
  }
 },
 "nbformat": 4,
 "nbformat_minor": 2
}
